{
 "cells": [
  {
   "cell_type": "markdown",
   "metadata": {},
   "source": [
    "# Task 1 "
   ]
  },
  {
   "cell_type": "code",
   "execution_count": 6,
   "metadata": {},
   "outputs": [
    {
     "name": "stdout",
     "output_type": "stream",
     "text": [
      "Available Ports:\n",
      "COM4 - Standard Serial over Bluetooth link (COM4)\n",
      "COM3 - Standard Serial over Bluetooth link (COM3)\n",
      "COM5 - USB-SERIAL CH340 (COM5)\n",
      "Arduino found on port COM5\n",
      "Available Ports:\n",
      "COM4 - Standard Serial over Bluetooth link (COM4)\n",
      "COM3 - Standard Serial over Bluetooth link (COM3)\n",
      "COM5 - USB-SERIAL CH340 (COM5)\n",
      "Arduino found on port COM5\n",
      "Exiting...\n"
     ]
    }
   ],
   "source": [
    "import serial\n",
    "import serial.tools.list_ports\n",
    "import time\n",
    "\n",
    "def find_arduino_port():\n",
    "    \"\"\"Finds the port where the Arduino is connected.\"\"\"\n",
    "    ports = list(serial.tools.list_ports.comports())\n",
    "    if not ports:\n",
    "        raise Exception(\"No serial ports found.\")\n",
    "    print(\"Available Ports:\")\n",
    "    for port in ports:\n",
    "        print(f\"{port.device} - {port.description}\")  # Print all available ports\n",
    "        if \"USB\" in port.description or \"Arduino\" in port.description or \"CH340\" in port.description:\n",
    "            return port.device\n",
    "    raise Exception(\"Arduino not found!\")\n",
    "\n",
    "def send_command_to_arduino(command):\n",
    "    \"\"\"Send ON/OFF command to Arduino.\"\"\"\n",
    "    try:\n",
    "        port = find_arduino_port()\n",
    "        print(f\"Arduino found on port {port}\")\n",
    "        with serial.Serial(port, 9600, timeout=1) as ser:\n",
    "            time.sleep(2)  # Wait for the connection to be established\n",
    "            ser.write(f\"{command}\\n\".encode('utf-8'))  # Send command to Arduino\n",
    "            while ser.in_waiting > 0:\n",
    "                print(ser.readline().decode('utf-8').strip())  # Print response from Arduino\n",
    "    except Exception as e:\n",
    "        print(f\"Error: {e}\")\n",
    "\n",
    "if __name__ == \"__main__\":\n",
    "    while True:\n",
    "        user_input = input(\"Enter command (ON/OFF or EXIT): \").strip().upper()\n",
    "        if user_input in [\"ON\", \"OFF\"]:\n",
    "            send_command_to_arduino(user_input)\n",
    "        elif user_input == \"EXIT\":\n",
    "            print(\"Exiting...\")\n",
    "            break\n",
    "        else:\n",
    "            print(\"Invalid input. Please enter ON, OFF, or EXIT.\")\n"
   ]
  },
  {
   "cell_type": "markdown",
   "metadata": {},
   "source": [
    "# Task 2"
   ]
  },
  {
   "cell_type": "code",
   "execution_count": null,
   "metadata": {},
   "outputs": [],
   "source": [
    "import serial.tools.list_ports\n",
    "import serial\n",
    "\n",
    "def find_arduino_port():\n",
    "    \"\"\"Finds the port where the Arduino is connected.\"\"\"\n",
    "    ports = list(serial.tools.list_ports.comports())\n",
    "    for port in ports:\n",
    "        if \"Arduino\" in port.description: \n",
    "            return port.device\n",
    "    raise Exception(\"Arduino not found!\")\n",
    "\n",
    "def read_button_state():\n",
    "    \"\"\"Read the debounced button state from Arduino.\"\"\"\n",
    "    try:\n",
    "        port = find_arduino_port()\n",
    "        print(f\"Arduino found on port {port}\")\n",
    "        with serial.Serial(port, 9600, timeout=1) as ser:\n",
    "            while True:\n",
    "                if ser.in_waiting > 0:\n",
    "                    line = ser.readline().decode('utf-8').strip()\n",
    "                    print(line)  # Print the button state\n",
    "    except Exception as e:\n",
    "        print(f\"Error: {e}\")\n",
    "\n",
    "if __name__ == \"__main__\":\n",
    "    read_button_state()\n"
   ]
  }
 ],
 "metadata": {
  "kernelspec": {
   "display_name": "Python 3",
   "language": "python",
   "name": "python3"
  },
  "language_info": {
   "codemirror_mode": {
    "name": "ipython",
    "version": 3
   },
   "file_extension": ".py",
   "mimetype": "text/x-python",
   "name": "python",
   "nbconvert_exporter": "python",
   "pygments_lexer": "ipython3",
   "version": "3.12.3"
  }
 },
 "nbformat": 4,
 "nbformat_minor": 2
}
